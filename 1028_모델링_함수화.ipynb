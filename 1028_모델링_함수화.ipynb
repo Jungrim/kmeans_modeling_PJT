{
 "cells": [
  {
   "cell_type": "code",
   "execution_count": 111,
   "id": "543d35af",
   "metadata": {},
   "outputs": [],
   "source": [
    "import pandas as pd\n",
    "import numpy as np\n",
    "import matplotlib.pyplot as plt\n",
    "\n",
    "from sklearn.cluster import KMeans\n",
    "from sklearn.preprocessing import MinMaxScaler\n",
    "from sklearn.metrics.pairwise import cosine_similarity\n",
    "import warnings"
   ]
  },
  {
   "cell_type": "code",
   "execution_count": 141,
   "id": "c1b2970c",
   "metadata": {},
   "outputs": [],
   "source": [
    "def minmax_norm(df):\n",
    "    empty_df = pd.DataFrame()\n",
    "    for c in df.columns:\n",
    "        temp_df = (df[c] - df[c].min()) / ( df[c].max() - df[c].min())\n",
    "        empty_df = pd.concat([empty_df, temp_df],axis=1)\n",
    "\n",
    "    return empty_df"
   ]
  },
  {
   "cell_type": "code",
   "execution_count": 207,
   "id": "24269a92",
   "metadata": {},
   "outputs": [],
   "source": [
    "def data_preprocessing():\n",
    "    tmp_df = pd.read_csv('행정동_기준_동별데이터_버스추가_1028.csv',index_col=0)\n",
    "    tmp_df.set_index('DONG_CODE',inplace=True)\n",
    "\n",
    "    # 교통\n",
    "    tmp_df['교통'] =tmp_df['SUBWAY_NUM'] + tmp_df['BUS_CNT']+tmp_df['BIKE_NUM']\n",
    "    tmp_df = tmp_df.drop(['SUBWAY_NUM','BUS_CNT','BIKE_NUM'],axis=1)\n",
    "\n",
    "    # 교육\n",
    "    tmp_df['교육'] =tmp_df['MID_SCH_NUM'] + tmp_df['HIGH_SCH_NUM']+tmp_df['ACADEMY_NUM'] + tmp_df['ELE_SCH_NUM']\n",
    "    tmp_df = tmp_df.drop(['MID_SCH_NUM','HIGH_SCH_NUM','ACADEMY_NUM','ELE_SCH_NUM'],axis=1)\n",
    "\n",
    "    # 육아\n",
    "    tmp_df['육아'] = tmp_df['KIDS_NUM'] + tmp_df['CHILD_MED_NUM']+ tmp_df['KINDER_NUM']\n",
    "    tmp_df = tmp_df.drop(['KIDS_NUM','CHILD_MED_NUM','KINDER_NUM'],axis=1)\n",
    "\n",
    "    # 치안\n",
    "    tmp_df['치안'] =tmp_df['SAFE_DLVR_NUM'] + tmp_df['POLICE_NUM']+tmp_df['CCTV_NUM']+tmp_df['FIRE_NUM']\n",
    "    tmp_df = tmp_df.drop(['SAFE_DLVR_NUM','POLICE_NUM','CCTV_NUM','FIRE_NUM'],axis=1)\n",
    "\n",
    "    # 건강\n",
    "    tmp_df['건강'] =tmp_df['HOSPITAL_NUM'] + tmp_df['PHARM_NUM']\n",
    "    tmp_df = tmp_df.drop(['HOSPITAL_NUM','PHARM_NUM'],axis=1)\n",
    "\n",
    "    # 편의시설\n",
    "    tmp_df['편의시설'] =tmp_df['DPTM_NUM'] + tmp_df['CON_NUM']\n",
    "    tmp_df = tmp_df.drop(['DPTM_NUM','CON_NUM'],axis=1)\n",
    "    \n",
    "    tmp_df = tmp_df.drop(['CAFE_NUM','BUS_NUM'],axis=1)\n",
    "    tmp_df = tmp_df[[ 'GU', 'DONG', '교통','치안','편의시설', '건강', '교육', '육아', \n",
    "       'STARBUCKS_NUM', 'SPORT_NUM', 'NOISE_VIBRATION_NUM', 'MC_NUM',\n",
    "       'LEISURE_NUM', 'GYM_NUM', 'GOLF_NUM', 'CAR_SHR_NUM', 'ANI_HSPT_NUM']]\n",
    "   # 소음 단계별로 나누기\n",
    "    tmp_df['NOISE_VIBRATION_NUM'] = np.where(tmp_df['NOISE_VIBRATION_NUM'] <500, 4,(np.where(tmp_df['NOISE_VIBRATION_NUM']<=1000, 3,(np.where(tmp_df['NOISE_VIBRATION_NUM']<=1500,2,1)))))\n",
    "\n",
    "    \n",
    "\n",
    "    return tmp_df"
   ]
  },
  {
   "cell_type": "code",
   "execution_count": 208,
   "id": "ef2debf4",
   "metadata": {},
   "outputs": [],
   "source": [
    "def data_clustering():\n",
    "    all_df = data_preprocessing()\n",
    "    data = all_df.drop(['GU','DONG'],axis=1)\n",
    "    data = minmax_norm(data)\n",
    "    kmeans = KMeans(n_clusters=3, init='k-means++',max_iter=300,random_state=0)\n",
    "    kmeans.fit(data)\n",
    "\n",
    "    basic_df = all_df.copy()\n",
    "    basic_df['km_cluster'] = kmeans.labels_\n",
    "\n",
    "    return basic_df, kmeans"
   ]
  },
  {
   "cell_type": "code",
   "execution_count": 209,
   "id": "553315aa",
   "metadata": {},
   "outputs": [],
   "source": [
    "def user_transform(user):  # min_Max Scaling 함수\n",
    "    user_min = min(user)\n",
    "    user_max = max(user)\n",
    "\n",
    "    user_scaled = []\n",
    "    for u in user:\n",
    "        x = (u - user_min) / (user_max - user_min)\n",
    "        user_scaled.append(x)\n",
    "    return user_scaled"
   ]
  },
  {
   "cell_type": "code",
   "execution_count": 210,
   "id": "6e0e4bf7",
   "metadata": {},
   "outputs": [],
   "source": [
    "def user_predict_cluster(user_input, user_id):\n",
    "    cluster_df, kmeans = data_clustering()\n",
    "    col = cluster_df.columns[2:-1]\n",
    "    user_df = pd.DataFrame(columns=col,index=[user_id])\n",
    "    user_df.loc[user_id] = user_transform(user_input)\n",
    "    cluster_user = kmeans.predict(user_df)\n",
    "    user_df['km_cluster'] = cluster_user\n",
    "    return cluster_df,user_df"
   ]
  },
  {
   "cell_type": "code",
   "execution_count": 211,
   "id": "1924097f",
   "metadata": {},
   "outputs": [
    {
     "name": "stderr",
     "output_type": "stream",
     "text": [
      "C:\\Users\\yorijori\\AppData\\Roaming\\Python\\Python39\\site-packages\\sklearn\\cluster\\_kmeans.py:1334: UserWarning: KMeans is known to have a memory leak on Windows with MKL, when there are less chunks than available threads. You can avoid it by setting the environment variable OMP_NUM_THREADS=2.\n",
      "  warnings.warn(\n"
     ]
    }
   ],
   "source": [
    "cluster_df , user_df = user_predict_cluster([1,1,1,3,2,0,1,0,1,0,0,0,0,0,0], 'a')"
   ]
  },
  {
   "cell_type": "code",
   "execution_count": 212,
   "id": "5ea7c547",
   "metadata": {},
   "outputs": [
    {
     "data": {
      "text/html": [
       "<div>\n",
       "<style scoped>\n",
       "    .dataframe tbody tr th:only-of-type {\n",
       "        vertical-align: middle;\n",
       "    }\n",
       "\n",
       "    .dataframe tbody tr th {\n",
       "        vertical-align: top;\n",
       "    }\n",
       "\n",
       "    .dataframe thead th {\n",
       "        text-align: right;\n",
       "    }\n",
       "</style>\n",
       "<table border=\"1\" class=\"dataframe\">\n",
       "  <thead>\n",
       "    <tr style=\"text-align: right;\">\n",
       "      <th></th>\n",
       "      <th>교통</th>\n",
       "      <th>치안</th>\n",
       "      <th>편의시설</th>\n",
       "      <th>건강</th>\n",
       "      <th>교육</th>\n",
       "      <th>육아</th>\n",
       "      <th>STARBUCKS_NUM</th>\n",
       "      <th>SPORT_NUM</th>\n",
       "      <th>NOISE_VIBRATION_NUM</th>\n",
       "      <th>MC_NUM</th>\n",
       "      <th>LEISURE_NUM</th>\n",
       "      <th>GYM_NUM</th>\n",
       "      <th>GOLF_NUM</th>\n",
       "      <th>CAR_SHR_NUM</th>\n",
       "      <th>ANI_HSPT_NUM</th>\n",
       "      <th>km_cluster</th>\n",
       "    </tr>\n",
       "  </thead>\n",
       "  <tbody>\n",
       "    <tr>\n",
       "      <th>a</th>\n",
       "      <td>0.333333</td>\n",
       "      <td>0.333333</td>\n",
       "      <td>0.333333</td>\n",
       "      <td>1.0</td>\n",
       "      <td>0.666667</td>\n",
       "      <td>0.0</td>\n",
       "      <td>0.333333</td>\n",
       "      <td>0.0</td>\n",
       "      <td>0.333333</td>\n",
       "      <td>0.0</td>\n",
       "      <td>0.0</td>\n",
       "      <td>0.0</td>\n",
       "      <td>0.0</td>\n",
       "      <td>0.0</td>\n",
       "      <td>0.0</td>\n",
       "      <td>1</td>\n",
       "    </tr>\n",
       "  </tbody>\n",
       "</table>\n",
       "</div>"
      ],
      "text/plain": [
       "         교통        치안      편의시설   건강        교육   육아 STARBUCKS_NUM SPORT_NUM  \\\n",
       "a  0.333333  0.333333  0.333333  1.0  0.666667  0.0      0.333333       0.0   \n",
       "\n",
       "  NOISE_VIBRATION_NUM MC_NUM LEISURE_NUM GYM_NUM GOLF_NUM CAR_SHR_NUM  \\\n",
       "a            0.333333    0.0         0.0     0.0      0.0         0.0   \n",
       "\n",
       "  ANI_HSPT_NUM  km_cluster  \n",
       "a          0.0           1  "
      ]
     },
     "execution_count": 212,
     "metadata": {},
     "output_type": "execute_result"
    }
   ],
   "source": [
    "user_df"
   ]
  },
  {
   "cell_type": "code",
   "execution_count": 213,
   "id": "60d95e50",
   "metadata": {},
   "outputs": [],
   "source": [
    "def similarity(user_df, df, user_name, num): # 유저 데이터, 유사도 측정을 위한 데이터, 유저 이름, 원하는 순위\n",
    "    con_data = pd.concat([user_df.loc[[user_name]],df])\n",
    "    rc_sim = cosine_similarity(con_data,con_data)\n",
    "    sim_matrix = pd.DataFrame(rc_sim,columns=con_data.index).loc[[0]].T\n",
    "    \n",
    "    rank = sim_matrix[0].sort_values(ascending=False) # 유사도 순서로 정렬\n",
    "    print(rank)\n",
    "    ranking = rank[1:num+1].index.tolist() # 1~n 위 리스트\n",
    "    return ranking"
   ]
  },
  {
   "cell_type": "code",
   "execution_count": 214,
   "id": "9bc7f759",
   "metadata": {},
   "outputs": [],
   "source": [
    "# 유저의 군집에 해당하는 지역 추출 함수\n",
    "def recommand_area(df, user_df, user_name): # 지역 데이터, 유저 데이터, 유저 이름\n",
    "    rc_area = user_df['km_cluster'].loc[user_name] # 해당 유저의 군집\n",
    "    rc_seoul = df[df['km_cluster'] == rc_area] # 서울시 내 군집 지역 추출\n",
    "    rc_sim_list = similarity(user_df.iloc[:,:-1],rc_seoul.iloc[:,2:-1],user_name,10)\n",
    "    return rc_seoul, rc_sim_list"
   ]
  },
  {
   "cell_type": "code",
   "execution_count": 215,
   "id": "f5b2e960",
   "metadata": {},
   "outputs": [
    {
     "name": "stdout",
     "output_type": "stream",
     "text": [
      "a             1.000000\n",
      "1171054000    0.939847\n",
      "1171055000    0.937137\n",
      "1171071000    0.906344\n",
      "1117053000    0.901344\n",
      "                ...   \n",
      "1174052500    0.451114\n",
      "1174052600    0.451114\n",
      "1114058000    0.432658\n",
      "1153059500    0.330607\n",
      "1153080000    0.328791\n",
      "Name: 0, Length: 191, dtype: float64\n"
     ]
    },
    {
     "data": {
      "text/plain": [
       "[1171054000,\n",
       " 1171055000,\n",
       " 1171071000,\n",
       " 1117053000,\n",
       " 1171069000,\n",
       " 1144060000,\n",
       " 1174065000,\n",
       " 1174066000,\n",
       " 1144058500,\n",
       " 1174064000]"
      ]
     },
     "execution_count": 215,
     "metadata": {},
     "output_type": "execute_result"
    }
   ],
   "source": [
    "rc_seoul, rc_list = recommand_area(cluster_df, user_df, \"a\")\n",
    "rc_list"
   ]
  },
  {
   "cell_type": "code",
   "execution_count": 216,
   "id": "5a6f9584",
   "metadata": {},
   "outputs": [
    {
     "data": {
      "text/plain": [
       "DONG_CODE\n",
       "1171054000    마천1동\n",
       "1171055000    마천2동\n",
       "1171071000    잠실6동\n",
       "1117053000     남영동\n",
       "1171069000    잠실4동\n",
       "1144060000     대흥동\n",
       "1174065000    성내2동\n",
       "1174066000    성내3동\n",
       "1144058500     도화동\n",
       "1174064000    성내1동\n",
       "Name: DONG, dtype: object"
      ]
     },
     "execution_count": 216,
     "metadata": {},
     "output_type": "execute_result"
    }
   ],
   "source": [
    "cluster_df.loc[rc_list]['DONG']"
   ]
  },
  {
   "cell_type": "code",
   "execution_count": null,
   "id": "a6227260",
   "metadata": {},
   "outputs": [],
   "source": []
  },
  {
   "cell_type": "code",
   "execution_count": null,
   "id": "60ad5f7b",
   "metadata": {},
   "outputs": [],
   "source": []
  },
  {
   "cell_type": "code",
   "execution_count": null,
   "id": "6305860c",
   "metadata": {},
   "outputs": [],
   "source": []
  }
 ],
 "metadata": {
  "kernelspec": {
   "display_name": "Python 3 (ipykernel)",
   "language": "python",
   "name": "python3"
  },
  "language_info": {
   "codemirror_mode": {
    "name": "ipython",
    "version": 3
   },
   "file_extension": ".py",
   "mimetype": "text/x-python",
   "name": "python",
   "nbconvert_exporter": "python",
   "pygments_lexer": "ipython3",
   "version": "3.9.12"
  }
 },
 "nbformat": 4,
 "nbformat_minor": 5
}

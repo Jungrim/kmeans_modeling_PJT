{
 "cells": [
  {
   "cell_type": "markdown",
   "id": "b2cd06fd",
   "metadata": {},
   "source": [
    "### 크롬드라이버 설치 (버전에 맞게) - 구글링\n",
    "- 인스타그램 크롬이 뜨면 로그인해주세요.\n",
    "- 하나씩 천천히 블록 실행해주세요."
   ]
  },
  {
   "cell_type": "code",
   "execution_count": 71,
   "id": "f4950671",
   "metadata": {},
   "outputs": [],
   "source": [
    "from selenium.webdriver.common.by import By\n",
    "from selenium import webdriver\n",
    "from selenium.webdriver.chrome.service import Service\n",
    "from bs4 import BeautifulSoup\n",
    "\n",
    "import pandas as pd\n",
    "import numpy as np\n",
    "import time\n",
    "\n",
    "ser = Service('chromedriver.exe')\n",
    "driver = webdriver.Chrome(service = ser)\n",
    "\n",
    "url = 'https://www.instagram.com/'\n",
    "driver.get(url)"
   ]
  },
  {
   "cell_type": "code",
   "execution_count": 72,
   "id": "f79c90e3",
   "metadata": {},
   "outputs": [],
   "source": [
    "\n",
    "\n",
    "def insta_searching(word):\n",
    "    url = 'https://www.instagram.com/explore/tags/{}/'.format(word)\n",
    "    return(url)\n",
    "\n",
    "from selenium.webdriver.common.by import By\n",
    "\n",
    "def select_first(driver):\n",
    "    # 웹페이지에 접속해서 첫번째 게시글 해당하는 tag 선택해줘\n",
    "    first = driver.find_element(By.CSS_SELECTOR, 'div._aagu')\n",
    "\n",
    "    first.click()\n",
    "    time.sleep(3)\n",
    "\n",
    "import re\n",
    "def get_content(driver):\n",
    "    html_insta = driver.page_source\n",
    "    soup = BeautifulSoup(html_insta, 'html.parser')\n",
    "\n",
    "    try:\n",
    "        content = soup.select('div._a9zs > span ')[0].text\n",
    "        print(content)\n",
    "\n",
    "    except:\n",
    "        content = \" \"\n",
    "\n",
    "    try:\n",
    "        tags = re.findall(r'#[^\\s#,\\\\]+',content)\n",
    "    except:\n",
    "        tags = \" \"\n",
    "\n",
    "    data = [content, tags]\n",
    "    print(data ,\"!!!\")\n",
    "    return(data)\n",
    "\n",
    "def move_next(driver):\n",
    "    right = driver.find_element(By.CSS_SELECTOR,\"div._aaqg\")\n",
    "\n",
    "    right.click()\n",
    "    time.sleep(3)\n",
    "\n",
    "def insta_crawling(word, n):\n",
    "\n",
    "    url = insta_searching(word)\n",
    "    driver.get(url)\n",
    "    time.sleep(8)\n",
    "\n",
    "\n",
    "    # 첫 사진 선택\n",
    "    select_first(driver)\n",
    "    time.sleep(8)\n",
    "\n",
    "\n",
    "    results = []\n",
    "    for i in range(n):\n",
    "        time.sleep(2)\n",
    "        try:\n",
    "            data = get_content(driver)\n",
    "            results.append(data)\n",
    "            move_next(driver)\n",
    "\n",
    "        except:\n",
    "            time.sleep(2)\n",
    "            move_next(driver)\n",
    "\n",
    "    return(results)\n"
   ]
  },
  {
   "cell_type": "code",
   "execution_count": null,
   "id": "3b6a8a0f",
   "metadata": {},
   "outputs": [],
   "source": []
  },
  {
   "cell_type": "markdown",
   "id": "4b434bea",
   "metadata": {},
   "source": [
    "### 본인이 검색하고 싶은 단어, 개수 insta_crawling()함수에다가"
   ]
  },
  {
   "cell_type": "code",
   "execution_count": 73,
   "id": "8463dbe4",
   "metadata": {},
   "outputs": [
    {
     "name": "stdout",
     "output_type": "stream",
     "text": [
      "[' ', []] !!!\n",
      "[' ', []] !!!\n"
     ]
    },
    {
     "ename": "NoSuchWindowException",
     "evalue": "Message: no such window: target window already closed\nfrom unknown error: web view not found\n  (Session info: chrome=106.0.5249.119)\nStacktrace:\nBacktrace:\n\tOrdinal0 [0x00F51ED3+2236115]\n\tOrdinal0 [0x00EE92F1+1807089]\n\tOrdinal0 [0x00DF66FD+812797]\n\tOrdinal0 [0x00DDDFFA+712698]\n\tOrdinal0 [0x00E4506B+1134699]\n\tOrdinal0 [0x00E5514A+1200458]\n\tOrdinal0 [0x00E418A6+1120422]\n\tOrdinal0 [0x00E1A73D+960317]\n\tOrdinal0 [0x00E1B71F+964383]\n\tGetHandleVerifier [0x011FE7E2+2743074]\n\tGetHandleVerifier [0x011F08D4+2685972]\n\tGetHandleVerifier [0x00FE2BAA+532202]\n\tGetHandleVerifier [0x00FE1990+527568]\n\tOrdinal0 [0x00EF080C+1837068]\n\tOrdinal0 [0x00EF4CD8+1854680]\n\tOrdinal0 [0x00EF4DC5+1854917]\n\tOrdinal0 [0x00EFED64+1895780]\n\tBaseThreadInitThunk [0x7626FA29+25]\n\tRtlGetAppContainerNamedObjectPath [0x775E7BBE+286]\n\tRtlGetAppContainerNamedObjectPath [0x775E7B8E+238]\n",
     "output_type": "error",
     "traceback": [
      "\u001b[1;31m---------------------------------------------------------------------------\u001b[0m",
      "\u001b[1;31mNoSuchWindowException\u001b[0m                     Traceback (most recent call last)",
      "Input \u001b[1;32mIn [72]\u001b[0m, in \u001b[0;36minsta_crawling\u001b[1;34m(word, n)\u001b[0m\n\u001b[0;32m     56\u001b[0m \u001b[38;5;28;01mtry\u001b[39;00m:\n\u001b[1;32m---> 57\u001b[0m     data \u001b[38;5;241m=\u001b[39m \u001b[43mget_content\u001b[49m\u001b[43m(\u001b[49m\u001b[43mdriver\u001b[49m\u001b[43m)\u001b[49m\n\u001b[0;32m     58\u001b[0m     results\u001b[38;5;241m.\u001b[39mappend(data)\n",
      "Input \u001b[1;32mIn [72]\u001b[0m, in \u001b[0;36mget_content\u001b[1;34m(driver)\u001b[0m\n\u001b[0;32m     15\u001b[0m \u001b[38;5;28;01mdef\u001b[39;00m \u001b[38;5;21mget_content\u001b[39m(driver):\n\u001b[1;32m---> 16\u001b[0m     html_insta \u001b[38;5;241m=\u001b[39m \u001b[43mdriver\u001b[49m\u001b[38;5;241;43m.\u001b[39;49m\u001b[43mpage_source\u001b[49m\n\u001b[0;32m     17\u001b[0m     soup \u001b[38;5;241m=\u001b[39m BeautifulSoup(html_insta, \u001b[38;5;124m'\u001b[39m\u001b[38;5;124mhtml.parser\u001b[39m\u001b[38;5;124m'\u001b[39m)\n",
      "File \u001b[1;32m~\\AppData\\Roaming\\Python\\Python39\\site-packages\\selenium\\webdriver\\remote\\webdriver.py:541\u001b[0m, in \u001b[0;36mWebDriver.page_source\u001b[1;34m(self)\u001b[0m\n\u001b[0;32m    533\u001b[0m \u001b[38;5;124;03m\"\"\"\u001b[39;00m\n\u001b[0;32m    534\u001b[0m \u001b[38;5;124;03mGets the source of the current page.\u001b[39;00m\n\u001b[0;32m    535\u001b[0m \n\u001b[1;32m   (...)\u001b[0m\n\u001b[0;32m    539\u001b[0m \u001b[38;5;124;03m        driver.page_source\u001b[39;00m\n\u001b[0;32m    540\u001b[0m \u001b[38;5;124;03m\"\"\"\u001b[39;00m\n\u001b[1;32m--> 541\u001b[0m \u001b[38;5;28;01mreturn\u001b[39;00m \u001b[38;5;28;43mself\u001b[39;49m\u001b[38;5;241;43m.\u001b[39;49m\u001b[43mexecute\u001b[49m\u001b[43m(\u001b[49m\u001b[43mCommand\u001b[49m\u001b[38;5;241;43m.\u001b[39;49m\u001b[43mGET_PAGE_SOURCE\u001b[49m\u001b[43m)\u001b[49m[\u001b[38;5;124m'\u001b[39m\u001b[38;5;124mvalue\u001b[39m\u001b[38;5;124m'\u001b[39m]\n",
      "File \u001b[1;32m~\\AppData\\Roaming\\Python\\Python39\\site-packages\\selenium\\webdriver\\remote\\webdriver.py:435\u001b[0m, in \u001b[0;36mWebDriver.execute\u001b[1;34m(self, driver_command, params)\u001b[0m\n\u001b[0;32m    434\u001b[0m \u001b[38;5;28;01mif\u001b[39;00m response:\n\u001b[1;32m--> 435\u001b[0m     \u001b[38;5;28;43mself\u001b[39;49m\u001b[38;5;241;43m.\u001b[39;49m\u001b[43merror_handler\u001b[49m\u001b[38;5;241;43m.\u001b[39;49m\u001b[43mcheck_response\u001b[49m\u001b[43m(\u001b[49m\u001b[43mresponse\u001b[49m\u001b[43m)\u001b[49m\n\u001b[0;32m    436\u001b[0m     response[\u001b[38;5;124m'\u001b[39m\u001b[38;5;124mvalue\u001b[39m\u001b[38;5;124m'\u001b[39m] \u001b[38;5;241m=\u001b[39m \u001b[38;5;28mself\u001b[39m\u001b[38;5;241m.\u001b[39m_unwrap_value(\n\u001b[0;32m    437\u001b[0m         response\u001b[38;5;241m.\u001b[39mget(\u001b[38;5;124m'\u001b[39m\u001b[38;5;124mvalue\u001b[39m\u001b[38;5;124m'\u001b[39m, \u001b[38;5;28;01mNone\u001b[39;00m))\n",
      "File \u001b[1;32m~\\AppData\\Roaming\\Python\\Python39\\site-packages\\selenium\\webdriver\\remote\\errorhandler.py:247\u001b[0m, in \u001b[0;36mErrorHandler.check_response\u001b[1;34m(self, response)\u001b[0m\n\u001b[0;32m    246\u001b[0m     \u001b[38;5;28;01mraise\u001b[39;00m exception_class(message, screen, stacktrace, alert_text)  \u001b[38;5;66;03m# type: ignore[call-arg]  # mypy is not smart enough here\u001b[39;00m\n\u001b[1;32m--> 247\u001b[0m \u001b[38;5;28;01mraise\u001b[39;00m exception_class(message, screen, stacktrace)\n",
      "\u001b[1;31mNoSuchWindowException\u001b[0m: Message: no such window: target window already closed\nfrom unknown error: web view not found\n  (Session info: chrome=106.0.5249.119)\nStacktrace:\nBacktrace:\n\tOrdinal0 [0x00F51ED3+2236115]\n\tOrdinal0 [0x00EE92F1+1807089]\n\tOrdinal0 [0x00DF66FD+812797]\n\tOrdinal0 [0x00DDDFFA+712698]\n\tOrdinal0 [0x00E4506B+1134699]\n\tOrdinal0 [0x00E5514A+1200458]\n\tOrdinal0 [0x00E418A6+1120422]\n\tOrdinal0 [0x00E1A73D+960317]\n\tOrdinal0 [0x00E1B71F+964383]\n\tGetHandleVerifier [0x011FE7E2+2743074]\n\tGetHandleVerifier [0x011F08D4+2685972]\n\tGetHandleVerifier [0x00FE2BAA+532202]\n\tGetHandleVerifier [0x00FE1990+527568]\n\tOrdinal0 [0x00EF080C+1837068]\n\tOrdinal0 [0x00EF4CD8+1854680]\n\tOrdinal0 [0x00EF4DC5+1854917]\n\tOrdinal0 [0x00EFED64+1895780]\n\tBaseThreadInitThunk [0x7626FA29+25]\n\tRtlGetAppContainerNamedObjectPath [0x775E7BBE+286]\n\tRtlGetAppContainerNamedObjectPath [0x775E7B8E+238]\n",
      "\nDuring handling of the above exception, another exception occurred:\n",
      "\u001b[1;31mNoSuchWindowException\u001b[0m                     Traceback (most recent call last)",
      "Input \u001b[1;32mIn [73]\u001b[0m, in \u001b[0;36m<cell line: 1>\u001b[1;34m()\u001b[0m\n\u001b[1;32m----> 1\u001b[0m results \u001b[38;5;241m=\u001b[39m \u001b[43minsta_crawling\u001b[49m\u001b[43m(\u001b[49m\u001b[38;5;124;43m\"\u001b[39;49m\u001b[38;5;124;43m육아\u001b[39;49m\u001b[38;5;124;43m\"\u001b[39;49m\u001b[43m,\u001b[49m\u001b[43m \u001b[49m\u001b[38;5;241;43m1000\u001b[39;49m\u001b[43m)\u001b[49m\n\u001b[0;32m      2\u001b[0m results_df \u001b[38;5;241m=\u001b[39m pd\u001b[38;5;241m.\u001b[39mDataFrame(results)\n\u001b[0;32m      3\u001b[0m results_df\u001b[38;5;241m.\u001b[39mcolumns \u001b[38;5;241m=\u001b[39m [\u001b[38;5;124m'\u001b[39m\u001b[38;5;124mcontent\u001b[39m\u001b[38;5;124m'\u001b[39m,\u001b[38;5;124m'\u001b[39m\u001b[38;5;124mtags\u001b[39m\u001b[38;5;124m'\u001b[39m]\n",
      "Input \u001b[1;32mIn [72]\u001b[0m, in \u001b[0;36minsta_crawling\u001b[1;34m(word, n)\u001b[0m\n\u001b[0;32m     61\u001b[0m     \u001b[38;5;28;01mexcept\u001b[39;00m:\n\u001b[0;32m     62\u001b[0m         time\u001b[38;5;241m.\u001b[39msleep(\u001b[38;5;241m2\u001b[39m)\n\u001b[1;32m---> 63\u001b[0m         \u001b[43mmove_next\u001b[49m\u001b[43m(\u001b[49m\u001b[43mdriver\u001b[49m\u001b[43m)\u001b[49m\n\u001b[0;32m     65\u001b[0m \u001b[38;5;28;01mreturn\u001b[39;00m(results)\n",
      "Input \u001b[1;32mIn [72]\u001b[0m, in \u001b[0;36mmove_next\u001b[1;34m(driver)\u001b[0m\n\u001b[0;32m     35\u001b[0m \u001b[38;5;28;01mdef\u001b[39;00m \u001b[38;5;21mmove_next\u001b[39m(driver):\n\u001b[1;32m---> 36\u001b[0m     right \u001b[38;5;241m=\u001b[39m \u001b[43mdriver\u001b[49m\u001b[38;5;241;43m.\u001b[39;49m\u001b[43mfind_element\u001b[49m\u001b[43m(\u001b[49m\u001b[43mBy\u001b[49m\u001b[38;5;241;43m.\u001b[39;49m\u001b[43mCSS_SELECTOR\u001b[49m\u001b[43m,\u001b[49m\u001b[38;5;124;43m\"\u001b[39;49m\u001b[38;5;124;43mdiv._aaqg\u001b[39;49m\u001b[38;5;124;43m\"\u001b[39;49m\u001b[43m)\u001b[49m\n\u001b[0;32m     38\u001b[0m     right\u001b[38;5;241m.\u001b[39mclick()\n\u001b[0;32m     39\u001b[0m     time\u001b[38;5;241m.\u001b[39msleep(\u001b[38;5;241m3\u001b[39m)\n",
      "File \u001b[1;32m~\\AppData\\Roaming\\Python\\Python39\\site-packages\\selenium\\webdriver\\remote\\webdriver.py:857\u001b[0m, in \u001b[0;36mWebDriver.find_element\u001b[1;34m(self, by, value)\u001b[0m\n\u001b[0;32m    854\u001b[0m     by \u001b[38;5;241m=\u001b[39m By\u001b[38;5;241m.\u001b[39mCSS_SELECTOR\n\u001b[0;32m    855\u001b[0m     value \u001b[38;5;241m=\u001b[39m \u001b[38;5;124m'\u001b[39m\u001b[38;5;124m[name=\u001b[39m\u001b[38;5;124m\"\u001b[39m\u001b[38;5;132;01m%s\u001b[39;00m\u001b[38;5;124m\"\u001b[39m\u001b[38;5;124m]\u001b[39m\u001b[38;5;124m'\u001b[39m \u001b[38;5;241m%\u001b[39m value\n\u001b[1;32m--> 857\u001b[0m \u001b[38;5;28;01mreturn\u001b[39;00m \u001b[38;5;28;43mself\u001b[39;49m\u001b[38;5;241;43m.\u001b[39;49m\u001b[43mexecute\u001b[49m\u001b[43m(\u001b[49m\u001b[43mCommand\u001b[49m\u001b[38;5;241;43m.\u001b[39;49m\u001b[43mFIND_ELEMENT\u001b[49m\u001b[43m,\u001b[49m\u001b[43m \u001b[49m\u001b[43m{\u001b[49m\n\u001b[0;32m    858\u001b[0m \u001b[43m    \u001b[49m\u001b[38;5;124;43m'\u001b[39;49m\u001b[38;5;124;43musing\u001b[39;49m\u001b[38;5;124;43m'\u001b[39;49m\u001b[43m:\u001b[49m\u001b[43m \u001b[49m\u001b[43mby\u001b[49m\u001b[43m,\u001b[49m\n\u001b[0;32m    859\u001b[0m \u001b[43m    \u001b[49m\u001b[38;5;124;43m'\u001b[39;49m\u001b[38;5;124;43mvalue\u001b[39;49m\u001b[38;5;124;43m'\u001b[39;49m\u001b[43m:\u001b[49m\u001b[43m \u001b[49m\u001b[43mvalue\u001b[49m\u001b[43m}\u001b[49m\u001b[43m)\u001b[49m[\u001b[38;5;124m'\u001b[39m\u001b[38;5;124mvalue\u001b[39m\u001b[38;5;124m'\u001b[39m]\n",
      "File \u001b[1;32m~\\AppData\\Roaming\\Python\\Python39\\site-packages\\selenium\\webdriver\\remote\\webdriver.py:435\u001b[0m, in \u001b[0;36mWebDriver.execute\u001b[1;34m(self, driver_command, params)\u001b[0m\n\u001b[0;32m    433\u001b[0m response \u001b[38;5;241m=\u001b[39m \u001b[38;5;28mself\u001b[39m\u001b[38;5;241m.\u001b[39mcommand_executor\u001b[38;5;241m.\u001b[39mexecute(driver_command, params)\n\u001b[0;32m    434\u001b[0m \u001b[38;5;28;01mif\u001b[39;00m response:\n\u001b[1;32m--> 435\u001b[0m     \u001b[38;5;28;43mself\u001b[39;49m\u001b[38;5;241;43m.\u001b[39;49m\u001b[43merror_handler\u001b[49m\u001b[38;5;241;43m.\u001b[39;49m\u001b[43mcheck_response\u001b[49m\u001b[43m(\u001b[49m\u001b[43mresponse\u001b[49m\u001b[43m)\u001b[49m\n\u001b[0;32m    436\u001b[0m     response[\u001b[38;5;124m'\u001b[39m\u001b[38;5;124mvalue\u001b[39m\u001b[38;5;124m'\u001b[39m] \u001b[38;5;241m=\u001b[39m \u001b[38;5;28mself\u001b[39m\u001b[38;5;241m.\u001b[39m_unwrap_value(\n\u001b[0;32m    437\u001b[0m         response\u001b[38;5;241m.\u001b[39mget(\u001b[38;5;124m'\u001b[39m\u001b[38;5;124mvalue\u001b[39m\u001b[38;5;124m'\u001b[39m, \u001b[38;5;28;01mNone\u001b[39;00m))\n\u001b[0;32m    438\u001b[0m     \u001b[38;5;28;01mreturn\u001b[39;00m response\n",
      "File \u001b[1;32m~\\AppData\\Roaming\\Python\\Python39\\site-packages\\selenium\\webdriver\\remote\\errorhandler.py:247\u001b[0m, in \u001b[0;36mErrorHandler.check_response\u001b[1;34m(self, response)\u001b[0m\n\u001b[0;32m    245\u001b[0m         alert_text \u001b[38;5;241m=\u001b[39m value[\u001b[38;5;124m'\u001b[39m\u001b[38;5;124malert\u001b[39m\u001b[38;5;124m'\u001b[39m]\u001b[38;5;241m.\u001b[39mget(\u001b[38;5;124m'\u001b[39m\u001b[38;5;124mtext\u001b[39m\u001b[38;5;124m'\u001b[39m)\n\u001b[0;32m    246\u001b[0m     \u001b[38;5;28;01mraise\u001b[39;00m exception_class(message, screen, stacktrace, alert_text)  \u001b[38;5;66;03m# type: ignore[call-arg]  # mypy is not smart enough here\u001b[39;00m\n\u001b[1;32m--> 247\u001b[0m \u001b[38;5;28;01mraise\u001b[39;00m exception_class(message, screen, stacktrace)\n",
      "\u001b[1;31mNoSuchWindowException\u001b[0m: Message: no such window: target window already closed\nfrom unknown error: web view not found\n  (Session info: chrome=106.0.5249.119)\nStacktrace:\nBacktrace:\n\tOrdinal0 [0x00F51ED3+2236115]\n\tOrdinal0 [0x00EE92F1+1807089]\n\tOrdinal0 [0x00DF66FD+812797]\n\tOrdinal0 [0x00DDDFFA+712698]\n\tOrdinal0 [0x00E4506B+1134699]\n\tOrdinal0 [0x00E5514A+1200458]\n\tOrdinal0 [0x00E418A6+1120422]\n\tOrdinal0 [0x00E1A73D+960317]\n\tOrdinal0 [0x00E1B71F+964383]\n\tGetHandleVerifier [0x011FE7E2+2743074]\n\tGetHandleVerifier [0x011F08D4+2685972]\n\tGetHandleVerifier [0x00FE2BAA+532202]\n\tGetHandleVerifier [0x00FE1990+527568]\n\tOrdinal0 [0x00EF080C+1837068]\n\tOrdinal0 [0x00EF4CD8+1854680]\n\tOrdinal0 [0x00EF4DC5+1854917]\n\tOrdinal0 [0x00EFED64+1895780]\n\tBaseThreadInitThunk [0x7626FA29+25]\n\tRtlGetAppContainerNamedObjectPath [0x775E7BBE+286]\n\tRtlGetAppContainerNamedObjectPath [0x775E7B8E+238]\n"
     ]
    }
   ],
   "source": [
    "\n",
    "results = insta_crawling(\"육아\", 1000)\n",
    "results_df = pd.DataFrame(results)\n",
    "results_df.columns = ['content','tags']\n",
    "# results_df.to_excel('1_crawling_jejudoMatJip.xlsx')abs\n"
   ]
  },
  {
   "cell_type": "markdown",
   "id": "2e730776",
   "metadata": {},
   "source": [
    "### 파일명 변경 해주세요!"
   ]
  },
  {
   "cell_type": "code",
   "execution_count": null,
   "id": "0f6aefa9",
   "metadata": {},
   "outputs": [],
   "source": [
    "results_df"
   ]
  },
  {
   "cell_type": "code",
   "execution_count": null,
   "id": "916b38e6",
   "metadata": {},
   "outputs": [],
   "source": [
    "\n",
    "f = open('육아1000.txt','w',encoding='UTF-8')\n",
    "\n",
    "all_str = \"\"\n",
    "for item in results_df['tags'].values:\n",
    "    str = ' '.join(item)\n",
    "    all_str += str\n",
    "    \n",
    "f.write(all_str)\n",
    "\n",
    "f.close()"
   ]
  },
  {
   "cell_type": "code",
   "execution_count": null,
   "id": "e9f24569",
   "metadata": {},
   "outputs": [],
   "source": [
    "all_str"
   ]
  },
  {
   "cell_type": "code",
   "execution_count": null,
   "id": "e8752a59",
   "metadata": {},
   "outputs": [],
   "source": [
    "remove_tags = ['육아이벤트','이벤트그램','유머스타그램','릴레이이벤트','팔로우','맞팔','필수해시태그']\n",
    "for n in remove_tags:\n",
    "    all_str = all_str.replace(n,'',-1)\n",
    "all_str"
   ]
  },
  {
   "cell_type": "code",
   "execution_count": null,
   "id": "9e6e6ff3",
   "metadata": {},
   "outputs": [],
   "source": [
    "from wordcloud import WordCloud\n",
    "import matplotlib.font_manager as fm\n",
    "path = \"c:/Windows/Fonts/malgun.ttf\"\n",
    "\n",
    "wc = WordCloud(font_path=path, width=600, height=600,background_color='black',colormap='hsv')\n",
    "wc.generate(all_str)\n",
    "\n",
    "\n",
    "wc.to_file(\"육아1000.png\")"
   ]
  },
  {
   "cell_type": "code",
   "execution_count": null,
   "id": "4698acd8",
   "metadata": {},
   "outputs": [],
   "source": []
  }
 ],
 "metadata": {
  "kernelspec": {
   "display_name": "Python 3 (ipykernel)",
   "language": "python",
   "name": "python3"
  },
  "language_info": {
   "codemirror_mode": {
    "name": "ipython",
    "version": 3
   },
   "file_extension": ".py",
   "mimetype": "text/x-python",
   "name": "python",
   "nbconvert_exporter": "python",
   "pygments_lexer": "ipython3",
   "version": "3.9.12"
  }
 },
 "nbformat": 4,
 "nbformat_minor": 5
}

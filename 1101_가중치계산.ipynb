{
 "cells": [
  {
   "cell_type": "markdown",
   "id": "912379d7",
   "metadata": {},
   "source": [
    "### 크롤링한 단어에서 빈도수 확인 함수"
   ]
  },
  {
   "cell_type": "code",
   "execution_count": 1,
   "id": "d3ecda77",
   "metadata": {},
   "outputs": [],
   "source": [
    "def word_count_cal(filename,remove_list):\n",
    "    text = \"\"\n",
    "    with open(filename,\"r\",encoding='utf-8') as f:\n",
    "        lines = f.readlines()\n",
    "        for i in lines :\n",
    "            text += i\n",
    "            \n",
    "    for n in remove_list:\n",
    "        text = text.replace(n,'',-1)\n",
    "        \n",
    "    word_count = WordCloud().process_text(text)\n",
    "\n",
    "    one_count_arr = []\n",
    "    for w in word_count.items():\n",
    "        if w[1] < 3:\n",
    "            one_count_arr.append(w[0])\n",
    "            \n",
    "    for o in one_count_arr:\n",
    "        del word_count[o]\n",
    "        \n",
    "    sorted_count = sorted(word_count.items(), key=lambda x:x[1],reverse=True)\n",
    "    sum_count = sum(word_count.values())\n",
    "    return sorted_count, sum_count"
   ]
  },
  {
   "cell_type": "markdown",
   "id": "a6b78b43",
   "metadata": {},
   "source": [
    "- 검색태그와 일치하거나 매우 유사한 경우 제거\n",
    "- 인스타에서 광고 혹은 일상적으로 쓰이는 단어 제거"
   ]
  },
  {
   "cell_type": "markdown",
   "id": "3ce95519",
   "metadata": {},
   "source": [
    "- remove_list : 태그 바뀔때마다 직접 수정 해주셔야 해요. 나오는 단어들 보고.\n",
    "- word_count_cal(텍스트파일 경로, remove_list)"
   ]
  },
  {
   "cell_type": "code",
   "execution_count": 3,
   "id": "c0675e3d",
   "metadata": {},
   "outputs": [
    {
     "name": "stdout",
     "output_type": "stream",
     "text": [
      "Defaulting to user installation because normal site-packages is not writeable\n",
      "Requirement already satisfied: WordCloud in c:\\users\\yorijori\\appdata\\roaming\\python\\python39\\site-packages (1.8.2.2)\n",
      "Requirement already satisfied: numpy>=1.6.1 in c:\\programdata\\anaconda3\\lib\\site-packages (from WordCloud) (1.21.5)\n",
      "Requirement already satisfied: pillow in c:\\programdata\\anaconda3\\lib\\site-packages (from WordCloud) (9.0.1)\n",
      "Requirement already satisfied: matplotlib in c:\\programdata\\anaconda3\\lib\\site-packages (from WordCloud) (3.5.1)\n",
      "Requirement already satisfied: python-dateutil>=2.7 in c:\\programdata\\anaconda3\\lib\\site-packages (from matplotlib->WordCloud) (2.8.2)\n",
      "Requirement already satisfied: cycler>=0.10 in c:\\programdata\\anaconda3\\lib\\site-packages (from matplotlib->WordCloud) (0.11.0)\n",
      "Requirement already satisfied: packaging>=20.0 in c:\\programdata\\anaconda3\\lib\\site-packages (from matplotlib->WordCloud) (21.3)\n",
      "Requirement already satisfied: pyparsing>=2.2.1 in c:\\programdata\\anaconda3\\lib\\site-packages (from matplotlib->WordCloud) (3.0.4)\n",
      "Requirement already satisfied: kiwisolver>=1.0.1 in c:\\programdata\\anaconda3\\lib\\site-packages (from matplotlib->WordCloud) (1.3.2)\n",
      "Requirement already satisfied: fonttools>=4.22.0 in c:\\programdata\\anaconda3\\lib\\site-packages (from matplotlib->WordCloud) (4.25.0)\n",
      "Requirement already satisfied: six>=1.5 in c:\\programdata\\anaconda3\\lib\\site-packages (from python-dateutil>=2.7->matplotlib->WordCloud) (1.16.0)\n"
     ]
    }
   ],
   "source": [
    "! pip install WordCloud"
   ]
  },
  {
   "cell_type": "code",
   "execution_count": 4,
   "id": "b24f6832",
   "metadata": {},
   "outputs": [
    {
     "data": {
      "text/plain": [
       "[('해피밀', 11),\n",
       " ('주말', 8),\n",
       " ('일상', 7),\n",
       " ('아침', 6),\n",
       " ('베이컨에그', 5),\n",
       " ('굿모닝', 5),\n",
       " ('추천', 4),\n",
       " ('도치맘', 4),\n",
       " ('토요일', 4),\n",
       " ('메뉴추천', 3),\n",
       " ('아들맘', 3),\n",
       " ('소시지에그', 3),\n",
       " ('해쉬브라운', 3),\n",
       " ('딸바보', 3),\n",
       " ('잉글리쉬머핀', 3)]"
      ]
     },
     "execution_count": 4,
     "metadata": {},
     "output_type": "execute_result"
    }
   ],
   "source": [
    "from wordcloud import WordCloud\n",
    "remove_list = ['맥그리들','맥모닝','맥도날드','mcdonald','세트','s','맥날','햄버거',\\\n",
    "               '먹스타그램','맛스타그램','좋아요','선팔']\n",
    "sorted_count_dict, sum_count = word_count_cal(\"./data/맥모닝_202210231544_tag.txt\",remove_list)\n",
    "sorted_count_dict"
   ]
  },
  {
   "cell_type": "code",
   "execution_count": 5,
   "id": "2a817b0f",
   "metadata": {},
   "outputs": [
    {
     "data": {
      "text/plain": [
       "0.1388888888888889"
      ]
     },
     "execution_count": 5,
     "metadata": {},
     "output_type": "execute_result"
    }
   ],
   "source": [
    "# 도치맘, 아들맘, 딸바보\n",
    "# 맥도날드 -> 육아 가중치 0.1\n",
    "10 / sum_count"
   ]
  },
  {
   "cell_type": "code",
   "execution_count": null,
   "id": "5e3481df",
   "metadata": {},
   "outputs": [],
   "source": []
  }
 ],
 "metadata": {
  "kernelspec": {
   "display_name": "Python 3 (ipykernel)",
   "language": "python",
   "name": "python3"
  },
  "language_info": {
   "codemirror_mode": {
    "name": "ipython",
    "version": 3
   },
   "file_extension": ".py",
   "mimetype": "text/x-python",
   "name": "python",
   "nbconvert_exporter": "python",
   "pygments_lexer": "ipython3",
   "version": "3.9.12"
  }
 },
 "nbformat": 4,
 "nbformat_minor": 5
}
